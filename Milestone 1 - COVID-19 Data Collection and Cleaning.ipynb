{
 "cells": [
  {
   "cell_type": "code",
   "execution_count": 1,
   "id": "345be64b",
   "metadata": {},
   "outputs": [],
   "source": [
    "import pandas as pd"
   ]
  },
  {
   "cell_type": "code",
   "execution_count": 5,
   "id": "97c229c3",
   "metadata": {},
   "outputs": [
    {
     "name": "stdout",
     "output_type": "stream",
     "text": [
      "Province/State    34404\n",
      "Country/Region        0\n",
      "Lat                   0\n",
      "Long                  0\n",
      "Date                  0\n",
      "Confirmed             0\n",
      "Deaths                0\n",
      "Recovered             0\n",
      "Active                0\n",
      "WHO Region            0\n",
      "dtype: int64\n",
      "Duplicate rows found: 0\n",
      "Unique WHO Regions: ['Eastern Mediterranean' 'Europe' 'Africa' 'Americas' 'Western Pacific'\n",
      " 'South-East Asia']\n",
      "Top 10 Countries by row count:\n",
      " China             6204\n",
      "Canada            2256\n",
      "France            2068\n",
      "United Kingdom    2068\n",
      "Australia         1504\n",
      "Netherlands        752\n",
      "Denmark            376\n",
      "Afghanistan        188\n",
      "Saudi Arabia       188\n",
      "Romania            188\n",
      "Name: Country/Region, dtype: int64\n"
     ]
    }
   ],
   "source": [
    "# Load dataset\n",
    "df = pd.read_csv(\"covid_19_clean_complete.csv\")\n",
    "\n",
    "# Check how many missing values are in each column\n",
    "print(df.isnull().sum())\n",
    "\n",
    "# Convert 'Date' column to datetime\n",
    "df['Date'] = pd.to_datetime(df['Date']) # So that Python knows it's a date — this helps when we want to make graphs over time, \n",
    "# or group the data by month, week, etc.\n",
    "\n",
    "# Standardize country names\n",
    "df['Country/Region'] = df['Country/Region'].str.strip().str.title() # This removes extra spaces and makes sure every country name starts with a capital letter.\n",
    "\n",
    "# Check for duplicate rows\n",
    "duplicates = df[df.duplicated()] # Duplicate rows are repeated information — and that can mess up totals or averages.\n",
    "print(f\"Duplicate rows found: {len(duplicates)}\") # This line checks how many rows are repeated.\n",
    "\n",
    "# Unique WHO Regions and sample countries\n",
    "print(\"Unique WHO Regions:\", df['WHO Region'].unique())\n",
    "print(\"Top 10 Countries by row count:\\n\", df['Country/Region'].value_counts().head(10))"
   ]
  },
  {
   "cell_type": "code",
   "execution_count": 3,
   "id": "a2464c19",
   "metadata": {},
   "outputs": [
    {
     "name": "stdout",
     "output_type": "stream",
     "text": [
      "Number of negative active case rows: 18\n",
      "Negative values after cleaning: 0\n"
     ]
    }
   ],
   "source": [
    "# Check how many rows have negative active cases\n",
    "# This helps us know if the data has any wrong numbers\n",
    "negative_count = (df['Active'] < 0).sum()\n",
    "print(f\"Number of negative active case rows: {negative_count}\")\n",
    "\n",
    "\n",
    "# Replace any negative number in the 'Active' column with 0\n",
    "# Because active cases can't be negative in real life\n",
    "df.loc[df['Active'] < 0, 'Active'] = 0\n",
    "\n",
    "# Check again to make sure it's fixed\n",
    "print(f\"Negative values after cleaning: {(df['Active'] < 0).sum()}\")\n"
   ]
  },
  {
   "cell_type": "code",
   "execution_count": 4,
   "id": "8177efa3",
   "metadata": {},
   "outputs": [
    {
     "name": "stdout",
     "output_type": "stream",
     "text": [
      "Cleaned dataset saved successfully as 'covid_19_cleaned.csv'\n"
     ]
    }
   ],
   "source": [
    "# Save the cleaned version of the dataset to a new CSV file\n",
    "df.to_csv(\"covid_19_cleaned.csv\", index=False)\n",
    "print(\"Cleaned dataset saved successfully as 'covid_19_cleaned.csv'\")"
   ]
  },
  {
   "cell_type": "code",
   "execution_count": null,
   "id": "3d0bb265",
   "metadata": {},
   "outputs": [],
   "source": []
  }
 ],
 "metadata": {
  "kernelspec": {
   "display_name": "Python 3 (ipykernel)",
   "language": "python",
   "name": "python3"
  },
  "language_info": {
   "codemirror_mode": {
    "name": "ipython",
    "version": 3
   },
   "file_extension": ".py",
   "mimetype": "text/x-python",
   "name": "python",
   "nbconvert_exporter": "python",
   "pygments_lexer": "ipython3",
   "version": "3.10.9"
  }
 },
 "nbformat": 4,
 "nbformat_minor": 5
}
